{
  "nbformat": 4,
  "nbformat_minor": 0,
  "metadata": {
    "colab": {
      "provenance": []
    },
    "kernelspec": {
      "name": "python3",
      "display_name": "Python 3"
    },
    "language_info": {
      "name": "python"
    }
  },
  "cells": [
    {
      "cell_type": "code",
      "execution_count": 1,
      "metadata": {
        "id": "-YOfwQ3zEfmr"
      },
      "outputs": [],
      "source": [
        "# 예제 1\n",
        "\n",
        "def factorial(n):\n",
        "  \"\"\"returns n!\"\"\"\n",
        "  return 1 if n < 2 else n * factorial(n-1)"
      ]
    },
    {
      "cell_type": "code",
      "source": [
        "factorial(42)"
      ],
      "metadata": {
        "colab": {
          "base_uri": "https://localhost:8080/"
        },
        "id": "5rrWGc39FZJI",
        "outputId": "8ad1f2b9-7c28-43f5-b471-5d4d2b113ee2"
      },
      "execution_count": 2,
      "outputs": [
        {
          "output_type": "execute_result",
          "data": {
            "text/plain": [
              "1405006117752879898543142606244511569936384000000000"
            ]
          },
          "metadata": {},
          "execution_count": 2
        }
      ]
    },
    {
      "cell_type": "code",
      "source": [
        "factorial.__doc__"
      ],
      "metadata": {
        "colab": {
          "base_uri": "https://localhost:8080/",
          "height": 35
        },
        "id": "ugq-B5bUFcqN",
        "outputId": "c5178c12-d44e-455c-da3a-a3b4b65af755"
      },
      "execution_count": 3,
      "outputs": [
        {
          "output_type": "execute_result",
          "data": {
            "text/plain": [
              "'returns n!'"
            ],
            "application/vnd.google.colaboratory.intrinsic+json": {
              "type": "string"
            }
          },
          "metadata": {},
          "execution_count": 3
        }
      ]
    },
    {
      "cell_type": "code",
      "source": [
        "type(factorial)"
      ],
      "metadata": {
        "colab": {
          "base_uri": "https://localhost:8080/"
        },
        "id": "HxePeOyIFeyt",
        "outputId": "fcb70b07-05b6-4bf9-9453-9486214270d7"
      },
      "execution_count": 4,
      "outputs": [
        {
          "output_type": "execute_result",
          "data": {
            "text/plain": [
              "function"
            ]
          },
          "metadata": {},
          "execution_count": 4
        }
      ]
    },
    {
      "cell_type": "code",
      "source": [
        "# 예제 2\n",
        "help(factorial)"
      ],
      "metadata": {
        "colab": {
          "base_uri": "https://localhost:8080/"
        },
        "id": "xJRxFwGOFgRc",
        "outputId": "1634a60b-0d06-438d-ad71-5ecd215388a5"
      },
      "execution_count": 5,
      "outputs": [
        {
          "output_type": "stream",
          "name": "stdout",
          "text": [
            "Help on function factorial in module __main__:\n",
            "\n",
            "factorial(n)\n",
            "    returns n!\n",
            "\n"
          ]
        }
      ]
    },
    {
      "cell_type": "code",
      "source": [
        "# 예제 3\n",
        "fact = factorial\n",
        "fact"
      ],
      "metadata": {
        "colab": {
          "base_uri": "https://localhost:8080/",
          "height": 103
        },
        "id": "mmJhjnEaFj9g",
        "outputId": "f78fc9d4-018b-48e9-80ef-699d0b9365c9"
      },
      "execution_count": 6,
      "outputs": [
        {
          "output_type": "execute_result",
          "data": {
            "text/plain": [
              "<function __main__.factorial(n)>"
            ],
            "text/html": [
              "<div style=\"max-width:800px; border: 1px solid var(--colab-border-color);\"><style>\n",
              "      pre.function-repr-contents {\n",
              "        overflow-x: auto;\n",
              "        padding: 8px 12px;\n",
              "        max-height: 500px;\n",
              "      }\n",
              "\n",
              "      pre.function-repr-contents.function-repr-contents-collapsed {\n",
              "        cursor: pointer;\n",
              "        max-height: 100px;\n",
              "      }\n",
              "    </style>\n",
              "    <pre style=\"white-space: initial; background:\n",
              "         var(--colab-secondary-surface-color); padding: 8px 12px;\n",
              "         border-bottom: 1px solid var(--colab-border-color);\"><b>factorial</b><br/>def factorial(n)</pre><pre class=\"function-repr-contents function-repr-contents-collapsed\" style=\"\"><a class=\"filepath\" style=\"display:none\" href=\"#\">/content/&lt;ipython-input-1-0856b0a6edf8&gt;</a>returns n!</pre></div>"
            ]
          },
          "metadata": {},
          "execution_count": 6
        }
      ]
    },
    {
      "cell_type": "code",
      "source": [
        "fact(5)"
      ],
      "metadata": {
        "colab": {
          "base_uri": "https://localhost:8080/"
        },
        "id": "vKHQo9yNFoVO",
        "outputId": "b2c04da4-9731-462c-b5e2-affd6e61ca9b"
      },
      "execution_count": 7,
      "outputs": [
        {
          "output_type": "execute_result",
          "data": {
            "text/plain": [
              "120"
            ]
          },
          "metadata": {},
          "execution_count": 7
        }
      ]
    },
    {
      "cell_type": "code",
      "source": [
        "map(factorial, range(11))"
      ],
      "metadata": {
        "colab": {
          "base_uri": "https://localhost:8080/"
        },
        "id": "62BVLaU2Fqad",
        "outputId": "9f128d4a-89b8-4e13-8b14-96d13c78ad26"
      },
      "execution_count": 8,
      "outputs": [
        {
          "output_type": "execute_result",
          "data": {
            "text/plain": [
              "<map at 0x7a89186b6800>"
            ]
          },
          "metadata": {},
          "execution_count": 8
        }
      ]
    },
    {
      "cell_type": "code",
      "source": [
        "list(map(fact, range(11)))"
      ],
      "metadata": {
        "colab": {
          "base_uri": "https://localhost:8080/"
        },
        "id": "1fgwmY8BFsf_",
        "outputId": "5ada3246-75d3-44ba-ba90-e15c82937c4b"
      },
      "execution_count": 9,
      "outputs": [
        {
          "output_type": "execute_result",
          "data": {
            "text/plain": [
              "[1, 1, 2, 6, 24, 120, 720, 5040, 40320, 362880, 3628800]"
            ]
          },
          "metadata": {},
          "execution_count": 9
        }
      ]
    },
    {
      "cell_type": "code",
      "source": [
        "# 예제 4\n",
        "fruits = ['strawberry', ' fig', 'apple', 'cherry','raspbrry','banana']\n",
        "sorted(fruits, key=len)"
      ],
      "metadata": {
        "colab": {
          "base_uri": "https://localhost:8080/"
        },
        "id": "C746VPmsFusF",
        "outputId": "a376dc59-db3b-49d8-9edd-26b7bf8d2bda"
      },
      "execution_count": 10,
      "outputs": [
        {
          "output_type": "execute_result",
          "data": {
            "text/plain": [
              "[' fig', 'apple', 'cherry', 'banana', 'raspbrry', 'strawberry']"
            ]
          },
          "metadata": {},
          "execution_count": 10
        }
      ]
    },
    {
      "cell_type": "code",
      "source": [
        "# 예제 5\n",
        "def reverse(word):\n",
        "  return word[::-1]\n",
        "reverse('testing')"
      ],
      "metadata": {
        "colab": {
          "base_uri": "https://localhost:8080/",
          "height": 35
        },
        "id": "slX80jnJF9Jm",
        "outputId": "162c0bfa-bfc6-4006-f6f9-3e314540ad07"
      },
      "execution_count": 12,
      "outputs": [
        {
          "output_type": "execute_result",
          "data": {
            "text/plain": [
              "'gnitset'"
            ],
            "application/vnd.google.colaboratory.intrinsic+json": {
              "type": "string"
            }
          },
          "metadata": {},
          "execution_count": 12
        }
      ]
    },
    {
      "cell_type": "code",
      "source": [
        "sorted(fruits, key=reverse)"
      ],
      "metadata": {
        "colab": {
          "base_uri": "https://localhost:8080/"
        },
        "id": "I6uerSiIGC4N",
        "outputId": "f1178bf8-8621-4854-e9e2-7f5944a95db8"
      },
      "execution_count": 13,
      "outputs": [
        {
          "output_type": "execute_result",
          "data": {
            "text/plain": [
              "['banana', 'apple', ' fig', 'raspbrry', 'strawberry', 'cherry']"
            ]
          },
          "metadata": {},
          "execution_count": 13
        }
      ]
    },
    {
      "cell_type": "code",
      "source": [
        "# 예제 6\n",
        "list(map(fact, range(6)))"
      ],
      "metadata": {
        "colab": {
          "base_uri": "https://localhost:8080/"
        },
        "id": "vtIyCWSVGJKA",
        "outputId": "c67da37a-178d-4552-f4f4-0321241d01b6"
      },
      "execution_count": 14,
      "outputs": [
        {
          "output_type": "execute_result",
          "data": {
            "text/plain": [
              "[1, 1, 2, 6, 24, 120]"
            ]
          },
          "metadata": {},
          "execution_count": 14
        }
      ]
    },
    {
      "cell_type": "code",
      "source": [
        "[fact(n) for n in range(6)]"
      ],
      "metadata": {
        "colab": {
          "base_uri": "https://localhost:8080/"
        },
        "id": "IGmc4yUoGMEC",
        "outputId": "ce9b3be6-78e9-491e-b8a8-bb5db4a20a57"
      },
      "execution_count": 15,
      "outputs": [
        {
          "output_type": "execute_result",
          "data": {
            "text/plain": [
              "[1, 1, 2, 6, 24, 120]"
            ]
          },
          "metadata": {},
          "execution_count": 15
        }
      ]
    },
    {
      "cell_type": "code",
      "source": [
        "list(map(factorial, filter(lambda n: n%2, range(6))))"
      ],
      "metadata": {
        "colab": {
          "base_uri": "https://localhost:8080/"
        },
        "id": "-C3KCGhJGOTe",
        "outputId": "06476bc6-3c55-4c7d-cca6-e3ed4a4ca160"
      },
      "execution_count": 16,
      "outputs": [
        {
          "output_type": "execute_result",
          "data": {
            "text/plain": [
              "[1, 6, 120]"
            ]
          },
          "metadata": {},
          "execution_count": 16
        }
      ]
    },
    {
      "cell_type": "code",
      "source": [
        "[factorial(n) for n in range(6) if n % 2]"
      ],
      "metadata": {
        "colab": {
          "base_uri": "https://localhost:8080/"
        },
        "id": "Xxb7XqVLGSqo",
        "outputId": "2dd8457b-ffac-481c-f6ca-be877c006316"
      },
      "execution_count": 17,
      "outputs": [
        {
          "output_type": "execute_result",
          "data": {
            "text/plain": [
              "[1, 6, 120]"
            ]
          },
          "metadata": {},
          "execution_count": 17
        }
      ]
    },
    {
      "cell_type": "code",
      "source": [
        "# 예제 7\n",
        "fruits = ['strawberry', 'fig', 'apple', 'cherry', 'raspbrry', 'banana']\n",
        "\n",
        "sorted(fruits, key=lambda word: word[::-1])"
      ],
      "metadata": {
        "colab": {
          "base_uri": "https://localhost:8080/"
        },
        "id": "3mao4mjqGV8l",
        "outputId": "e36dc7fe-c1f7-4c3d-ebc3-b8e8ad8d6f1b"
      },
      "execution_count": 18,
      "outputs": [
        {
          "output_type": "execute_result",
          "data": {
            "text/plain": [
              "['banana', 'apple', 'fig', 'raspbrry', 'strawberry', 'cherry']"
            ]
          },
          "metadata": {},
          "execution_count": 18
        }
      ]
    },
    {
      "cell_type": "code",
      "source": [
        "# 예제 8\n",
        "abs, str, 13"
      ],
      "metadata": {
        "colab": {
          "base_uri": "https://localhost:8080/"
        },
        "id": "B985i0BpGkRu",
        "outputId": "d9e1b37f-ac07-4409-e11a-5415634ce418"
      },
      "execution_count": 19,
      "outputs": [
        {
          "output_type": "execute_result",
          "data": {
            "text/plain": [
              "(<function abs(x, /)>, str, 13)"
            ]
          },
          "metadata": {},
          "execution_count": 19
        }
      ]
    },
    {
      "cell_type": "code",
      "source": [
        "[callable(obj) for obj in (abs, str, 13)]"
      ],
      "metadata": {
        "colab": {
          "base_uri": "https://localhost:8080/"
        },
        "id": "yjQ6CKz3GoZz",
        "outputId": "3dbc861f-875c-4333-f2ef-74636bbbc966"
      },
      "execution_count": 20,
      "outputs": [
        {
          "output_type": "execute_result",
          "data": {
            "text/plain": [
              "[True, True, False]"
            ]
          },
          "metadata": {},
          "execution_count": 20
        }
      ]
    },
    {
      "cell_type": "code",
      "source": [
        "# 예제 9\n",
        "import random\n",
        "\n",
        "class BingoCage:\n",
        "\n",
        "  def __init__(self, items):\n",
        "    self._items = list(items)\n",
        "    random.shuffle(self._items)\n",
        "\n",
        "  def pick(self):\n",
        "    try:\n",
        "      return self._items.pop()\n",
        "    except:\n",
        "      raise LookupError('pick from empty BingoCage')\n",
        "\n",
        "  def __call__(self):\n",
        "    return self.pick()"
      ],
      "metadata": {
        "id": "PfPC3fv5G7hb"
      },
      "execution_count": 22,
      "outputs": []
    },
    {
      "cell_type": "code",
      "source": [
        "# 예제 10\n",
        "bingo = BingoCage(range(3))\n",
        "bingo.pick()"
      ],
      "metadata": {
        "colab": {
          "base_uri": "https://localhost:8080/"
        },
        "id": "iLAJgorcHAJ-",
        "outputId": "30388b99-c33e-43b7-c84e-05a43003791e"
      },
      "execution_count": 23,
      "outputs": [
        {
          "output_type": "execute_result",
          "data": {
            "text/plain": [
              "0"
            ]
          },
          "metadata": {},
          "execution_count": 23
        }
      ]
    },
    {
      "cell_type": "code",
      "source": [
        "bingo()"
      ],
      "metadata": {
        "colab": {
          "base_uri": "https://localhost:8080/"
        },
        "id": "J-GIPqu8HFuJ",
        "outputId": "3209dfab-3199-4068-c809-81f3c1ea302d"
      },
      "execution_count": 24,
      "outputs": [
        {
          "output_type": "execute_result",
          "data": {
            "text/plain": [
              "1"
            ]
          },
          "metadata": {},
          "execution_count": 24
        }
      ]
    },
    {
      "cell_type": "code",
      "source": [
        "callable(bingo)"
      ],
      "metadata": {
        "colab": {
          "base_uri": "https://localhost:8080/"
        },
        "id": "1KsDXepiHHU4",
        "outputId": "37f1d78d-bb89-400f-fcb6-3dbc04737279"
      },
      "execution_count": 26,
      "outputs": [
        {
          "output_type": "execute_result",
          "data": {
            "text/plain": [
              "True"
            ]
          },
          "metadata": {},
          "execution_count": 26
        }
      ]
    },
    {
      "cell_type": "code",
      "source": [
        "bingo()"
      ],
      "metadata": {
        "colab": {
          "base_uri": "https://localhost:8080/"
        },
        "id": "_Pfgg5RjHJnj",
        "outputId": "02100dbc-aa65-4834-a0f8-5ae7661546a6"
      },
      "execution_count": 27,
      "outputs": [
        {
          "output_type": "execute_result",
          "data": {
            "text/plain": [
              "2"
            ]
          },
          "metadata": {},
          "execution_count": 27
        }
      ]
    },
    {
      "cell_type": "code",
      "source": [
        "# 예제 11\n",
        "bingo()"
      ],
      "metadata": {
        "colab": {
          "base_uri": "https://localhost:8080/",
          "height": 420
        },
        "id": "8vFsZufrHNcU",
        "outputId": "502cfffc-fc88-43b0-8f8a-33cb0302f62f"
      },
      "execution_count": 28,
      "outputs": [
        {
          "output_type": "error",
          "ename": "LookupError",
          "evalue": "pick from empty BingoCage",
          "traceback": [
            "\u001b[0;31m---------------------------------------------------------------------------\u001b[0m",
            "\u001b[0;31mIndexError\u001b[0m                                Traceback (most recent call last)",
            "\u001b[0;32m<ipython-input-22-8d1bf7aa4665>\u001b[0m in \u001b[0;36mpick\u001b[0;34m(self)\u001b[0m\n\u001b[1;32m     11\u001b[0m     \u001b[0;32mtry\u001b[0m\u001b[0;34m:\u001b[0m\u001b[0;34m\u001b[0m\u001b[0;34m\u001b[0m\u001b[0m\n\u001b[0;32m---> 12\u001b[0;31m       \u001b[0;32mreturn\u001b[0m \u001b[0mself\u001b[0m\u001b[0;34m.\u001b[0m\u001b[0m_items\u001b[0m\u001b[0;34m.\u001b[0m\u001b[0mpop\u001b[0m\u001b[0;34m(\u001b[0m\u001b[0;34m)\u001b[0m\u001b[0;34m\u001b[0m\u001b[0;34m\u001b[0m\u001b[0m\n\u001b[0m\u001b[1;32m     13\u001b[0m     \u001b[0;32mexcept\u001b[0m\u001b[0;34m:\u001b[0m\u001b[0;34m\u001b[0m\u001b[0;34m\u001b[0m\u001b[0m\n",
            "\u001b[0;31mIndexError\u001b[0m: pop from empty list",
            "\nDuring handling of the above exception, another exception occurred:\n",
            "\u001b[0;31mLookupError\u001b[0m                               Traceback (most recent call last)",
            "\u001b[0;32m<ipython-input-28-d5dc5c650f4d>\u001b[0m in \u001b[0;36m<cell line: 2>\u001b[0;34m()\u001b[0m\n\u001b[1;32m      1\u001b[0m \u001b[0;31m# 예제 11\u001b[0m\u001b[0;34m\u001b[0m\u001b[0;34m\u001b[0m\u001b[0m\n\u001b[0;32m----> 2\u001b[0;31m \u001b[0mbingo\u001b[0m\u001b[0;34m(\u001b[0m\u001b[0;34m)\u001b[0m\u001b[0;34m\u001b[0m\u001b[0;34m\u001b[0m\u001b[0m\n\u001b[0m",
            "\u001b[0;32m<ipython-input-22-8d1bf7aa4665>\u001b[0m in \u001b[0;36m__call__\u001b[0;34m(self)\u001b[0m\n\u001b[1;32m     15\u001b[0m \u001b[0;34m\u001b[0m\u001b[0m\n\u001b[1;32m     16\u001b[0m   \u001b[0;32mdef\u001b[0m \u001b[0m__call__\u001b[0m\u001b[0;34m(\u001b[0m\u001b[0mself\u001b[0m\u001b[0;34m)\u001b[0m\u001b[0;34m:\u001b[0m\u001b[0;34m\u001b[0m\u001b[0;34m\u001b[0m\u001b[0m\n\u001b[0;32m---> 17\u001b[0;31m     \u001b[0;32mreturn\u001b[0m \u001b[0mself\u001b[0m\u001b[0;34m.\u001b[0m\u001b[0mpick\u001b[0m\u001b[0;34m(\u001b[0m\u001b[0;34m)\u001b[0m\u001b[0;34m\u001b[0m\u001b[0;34m\u001b[0m\u001b[0m\n\u001b[0m",
            "\u001b[0;32m<ipython-input-22-8d1bf7aa4665>\u001b[0m in \u001b[0;36mpick\u001b[0;34m(self)\u001b[0m\n\u001b[1;32m     12\u001b[0m       \u001b[0;32mreturn\u001b[0m \u001b[0mself\u001b[0m\u001b[0;34m.\u001b[0m\u001b[0m_items\u001b[0m\u001b[0;34m.\u001b[0m\u001b[0mpop\u001b[0m\u001b[0;34m(\u001b[0m\u001b[0;34m)\u001b[0m\u001b[0;34m\u001b[0m\u001b[0;34m\u001b[0m\u001b[0m\n\u001b[1;32m     13\u001b[0m     \u001b[0;32mexcept\u001b[0m\u001b[0;34m:\u001b[0m\u001b[0;34m\u001b[0m\u001b[0;34m\u001b[0m\u001b[0m\n\u001b[0;32m---> 14\u001b[0;31m       \u001b[0;32mraise\u001b[0m \u001b[0mLookupError\u001b[0m\u001b[0;34m(\u001b[0m\u001b[0;34m'pick from empty BingoCage'\u001b[0m\u001b[0;34m)\u001b[0m\u001b[0;34m\u001b[0m\u001b[0;34m\u001b[0m\u001b[0m\n\u001b[0m\u001b[1;32m     15\u001b[0m \u001b[0;34m\u001b[0m\u001b[0m\n\u001b[1;32m     16\u001b[0m   \u001b[0;32mdef\u001b[0m \u001b[0m__call__\u001b[0m\u001b[0;34m(\u001b[0m\u001b[0mself\u001b[0m\u001b[0;34m)\u001b[0m\u001b[0;34m:\u001b[0m\u001b[0;34m\u001b[0m\u001b[0;34m\u001b[0m\u001b[0m\n",
            "\u001b[0;31mLookupError\u001b[0m: pick from empty BingoCage"
          ]
        }
      ]
    },
    {
      "cell_type": "code",
      "source": [
        "# 예제 12\n",
        "def tag(name, *content, cls=None, **attrs):\n",
        "  \"\"\"하나 이상의 HTML 태그를 생성\"\"\"\n",
        "  if cls is not None:\n",
        "    attrs['class'] = cls\n",
        "  if attrs:\n",
        "    attr_str = ''.join(' %s=\"%s\"' % (attr, value)\n",
        "      for attr, value in sorted(attrs.items()))\n",
        "  else:\n",
        "    attr_str = ''\n",
        "  if content:\n",
        "    return '\\n'.join('<%s%s>%s</%s>' %\n",
        "      (name, attr_str, c, name) for c in content)\n",
        "  else:\n",
        "    return '<%s%s />' % (name, attr_str)"
      ],
      "metadata": {
        "id": "Hp0IJm8vHQcT"
      },
      "execution_count": 30,
      "outputs": []
    },
    {
      "cell_type": "code",
      "source": [
        "# 예제 13\n",
        "tag('br')"
      ],
      "metadata": {
        "colab": {
          "base_uri": "https://localhost:8080/",
          "height": 35
        },
        "id": "SNsXW-DOHrwC",
        "outputId": "87488f68-e9a5-4f7c-ac7e-82eae9973f72"
      },
      "execution_count": 31,
      "outputs": [
        {
          "output_type": "execute_result",
          "data": {
            "text/plain": [
              "'<br />'"
            ],
            "application/vnd.google.colaboratory.intrinsic+json": {
              "type": "string"
            }
          },
          "metadata": {},
          "execution_count": 31
        }
      ]
    },
    {
      "cell_type": "code",
      "source": [
        "tag('p', 'hello')"
      ],
      "metadata": {
        "colab": {
          "base_uri": "https://localhost:8080/",
          "height": 35
        },
        "id": "OrJfVsCKHyMK",
        "outputId": "5631f801-0ba2-4a62-c224-57d8202a7eec"
      },
      "execution_count": 32,
      "outputs": [
        {
          "output_type": "execute_result",
          "data": {
            "text/plain": [
              "'<p>hello</p>'"
            ],
            "application/vnd.google.colaboratory.intrinsic+json": {
              "type": "string"
            }
          },
          "metadata": {},
          "execution_count": 32
        }
      ]
    },
    {
      "cell_type": "code",
      "source": [
        "print(tag('p', 'hello', 'world'))"
      ],
      "metadata": {
        "colab": {
          "base_uri": "https://localhost:8080/"
        },
        "id": "kNNeePmuH0-Y",
        "outputId": "56bbfefd-ed49-43c6-b4db-013903a33ad0"
      },
      "execution_count": 33,
      "outputs": [
        {
          "output_type": "stream",
          "name": "stdout",
          "text": [
            "<p>hello</p>\n",
            "<p>world</p>\n"
          ]
        }
      ]
    },
    {
      "cell_type": "code",
      "source": [
        "tag('p','hello',id=33)"
      ],
      "metadata": {
        "colab": {
          "base_uri": "https://localhost:8080/",
          "height": 35
        },
        "id": "rhf-p1Y4H2ns",
        "outputId": "4079c753-b596-4aad-dbc5-9d90f3efb4e9"
      },
      "execution_count": 34,
      "outputs": [
        {
          "output_type": "execute_result",
          "data": {
            "text/plain": [
              "'<p id=\"33\">hello</p>'"
            ],
            "application/vnd.google.colaboratory.intrinsic+json": {
              "type": "string"
            }
          },
          "metadata": {},
          "execution_count": 34
        }
      ]
    },
    {
      "cell_type": "code",
      "source": [
        "# 예제 14\n",
        "print(tag('p','hello','world',cls='sidebar'))"
      ],
      "metadata": {
        "colab": {
          "base_uri": "https://localhost:8080/"
        },
        "id": "lgnDmPeBH5fg",
        "outputId": "d8407bfb-708d-48f6-bd01-e61a7cd45baa"
      },
      "execution_count": 35,
      "outputs": [
        {
          "output_type": "stream",
          "name": "stdout",
          "text": [
            "<p class=\"sidebar\">hello</p>\n",
            "<p class=\"sidebar\">world</p>\n"
          ]
        }
      ]
    },
    {
      "cell_type": "code",
      "source": [
        "tag(content='testing',name='img')"
      ],
      "metadata": {
        "colab": {
          "base_uri": "https://localhost:8080/",
          "height": 35
        },
        "id": "tJmH52M5H_js",
        "outputId": "70df0b07-af1e-4dd9-bf6f-97fd9578cc5c"
      },
      "execution_count": 36,
      "outputs": [
        {
          "output_type": "execute_result",
          "data": {
            "text/plain": [
              "'<img content=\"testing\" />'"
            ],
            "application/vnd.google.colaboratory.intrinsic+json": {
              "type": "string"
            }
          },
          "metadata": {},
          "execution_count": 36
        }
      ]
    },
    {
      "cell_type": "code",
      "source": [
        "my_tag= {'name':'img','title':'Sunset Boulevard','src':'sunset.jpg','cls':'framed'}\n",
        "\n",
        "tag(**my_tag)"
      ],
      "metadata": {
        "colab": {
          "base_uri": "https://localhost:8080/",
          "height": 35
        },
        "id": "7B1Wx0OzICjs",
        "outputId": "af8a2af0-0f12-4a92-cdf0-f5c29362d603"
      },
      "execution_count": 37,
      "outputs": [
        {
          "output_type": "execute_result",
          "data": {
            "text/plain": [
              "'<img class=\"framed\" src=\"sunset.jpg\" title=\"Sunset Boulevard\" />'"
            ],
            "application/vnd.google.colaboratory.intrinsic+json": {
              "type": "string"
            }
          },
          "metadata": {},
          "execution_count": 37
        }
      ]
    },
    {
      "cell_type": "code",
      "source": [
        "# 예제 15\n",
        "def f(a, *, b):\n",
        "  return a, b\n",
        "f(1, b=2)"
      ],
      "metadata": {
        "colab": {
          "base_uri": "https://localhost:8080/"
        },
        "id": "gT9rloBAIMaA",
        "outputId": "10fbbbba-da7d-486c-ef0e-4c2bb7519605"
      },
      "execution_count": 38,
      "outputs": [
        {
          "output_type": "execute_result",
          "data": {
            "text/plain": [
              "(1, 2)"
            ]
          },
          "metadata": {},
          "execution_count": 38
        }
      ]
    },
    {
      "cell_type": "code",
      "source": [
        "# 예제 16\n",
        "def create_user(name, *, age, is_admin=False):\n",
        "  print(f'Name: {name}, Age: {age}, Admin: {is_admin}')\n",
        "\n",
        "create_user(\"Alice\", age=30, is_admin=True)\n",
        "create_user(\"Bob\", 25)"
      ],
      "metadata": {
        "colab": {
          "base_uri": "https://localhost:8080/",
          "height": 199
        },
        "id": "ZyBsLvebIQRt",
        "outputId": "81024f47-419d-4650-db00-49c04b5f9ed3"
      },
      "execution_count": 39,
      "outputs": [
        {
          "output_type": "stream",
          "name": "stdout",
          "text": [
            "Name: Alice, Age: 30, Admin: True\n"
          ]
        },
        {
          "output_type": "error",
          "ename": "TypeError",
          "evalue": "create_user() takes 1 positional argument but 2 were given",
          "traceback": [
            "\u001b[0;31m---------------------------------------------------------------------------\u001b[0m",
            "\u001b[0;31mTypeError\u001b[0m                                 Traceback (most recent call last)",
            "\u001b[0;32m<ipython-input-39-e31898ce9a52>\u001b[0m in \u001b[0;36m<cell line: 6>\u001b[0;34m()\u001b[0m\n\u001b[1;32m      4\u001b[0m \u001b[0;34m\u001b[0m\u001b[0m\n\u001b[1;32m      5\u001b[0m \u001b[0mcreate_user\u001b[0m\u001b[0;34m(\u001b[0m\u001b[0;34m\"Alice\"\u001b[0m\u001b[0;34m,\u001b[0m \u001b[0mage\u001b[0m\u001b[0;34m=\u001b[0m\u001b[0;36m30\u001b[0m\u001b[0;34m,\u001b[0m \u001b[0mis_admin\u001b[0m\u001b[0;34m=\u001b[0m\u001b[0;32mTrue\u001b[0m\u001b[0;34m)\u001b[0m\u001b[0;34m\u001b[0m\u001b[0;34m\u001b[0m\u001b[0m\n\u001b[0;32m----> 6\u001b[0;31m \u001b[0mcreate_user\u001b[0m\u001b[0;34m(\u001b[0m\u001b[0;34m\"Bob\"\u001b[0m\u001b[0;34m,\u001b[0m \u001b[0;36m25\u001b[0m\u001b[0;34m)\u001b[0m\u001b[0;34m\u001b[0m\u001b[0;34m\u001b[0m\u001b[0m\n\u001b[0m",
            "\u001b[0;31mTypeError\u001b[0m: create_user() takes 1 positional argument but 2 were given"
          ]
        }
      ]
    },
    {
      "cell_type": "code",
      "source": [
        "# 예제 17\n",
        "def clip(text, max_len=80):\n",
        "  \"\"\"max_len 앞이나 뒤의 마지막 공백에서 잘라낸 텍스트를 반환한다.\"\"\"\n",
        "\n",
        "  end = None\n",
        "  if len(text) > max_len:\n",
        "    space_before = text.rfind(' ', 0, max_len)\n",
        "    if space_before >= 0:\n",
        "      end = space_before\n",
        "    else:\n",
        "      space_after = text.rfind(' ', max_len)\n",
        "      if space_after >= 0:\n",
        "        end = space_after\n",
        "\n",
        "  if end is None:\n",
        "    end = len(text)\n",
        "  return text[:end].rstrip()"
      ],
      "metadata": {
        "id": "sCFakdcRIoDL"
      },
      "execution_count": 40,
      "outputs": []
    },
    {
      "cell_type": "code",
      "source": [
        "# 예제 18\n",
        "clip.__defaults__"
      ],
      "metadata": {
        "colab": {
          "base_uri": "https://localhost:8080/"
        },
        "id": "D2P5vsUOI7O7",
        "outputId": "4e469a97-ba8e-42e5-bbb5-950790ee5590"
      },
      "execution_count": 41,
      "outputs": [
        {
          "output_type": "execute_result",
          "data": {
            "text/plain": [
              "(80,)"
            ]
          },
          "metadata": {},
          "execution_count": 41
        }
      ]
    },
    {
      "cell_type": "code",
      "source": [
        "clip.__code__"
      ],
      "metadata": {
        "colab": {
          "base_uri": "https://localhost:8080/"
        },
        "id": "lgUYOLztI_Bu",
        "outputId": "66d31264-ef68-452a-bcd5-80721186defd"
      },
      "execution_count": 42,
      "outputs": [
        {
          "output_type": "execute_result",
          "data": {
            "text/plain": [
              "<code object clip at 0x7a88dba9c500, file \"<ipython-input-40-2347a155498b>\", line 2>"
            ]
          },
          "metadata": {},
          "execution_count": 42
        }
      ]
    },
    {
      "cell_type": "code",
      "source": [
        "clip.__code__.co_varnames"
      ],
      "metadata": {
        "colab": {
          "base_uri": "https://localhost:8080/"
        },
        "id": "JZvDRKq1JAtx",
        "outputId": "a1f271a5-f399-4c71-c36e-179dee98f742"
      },
      "execution_count": 43,
      "outputs": [
        {
          "output_type": "execute_result",
          "data": {
            "text/plain": [
              "('text', 'max_len', 'end', 'space_before', 'space_after')"
            ]
          },
          "metadata": {},
          "execution_count": 43
        }
      ]
    },
    {
      "cell_type": "code",
      "source": [
        "clip.__code__.co_argcount"
      ],
      "metadata": {
        "colab": {
          "base_uri": "https://localhost:8080/"
        },
        "id": "6_8jY81bJCHZ",
        "outputId": "5e5395eb-215f-447f-997f-9867ff4f1857"
      },
      "execution_count": 44,
      "outputs": [
        {
          "output_type": "execute_result",
          "data": {
            "text/plain": [
              "2"
            ]
          },
          "metadata": {},
          "execution_count": 44
        }
      ]
    },
    {
      "cell_type": "code",
      "source": [
        "# 예제 19\n",
        "from inspect import signature\n",
        "\n",
        "sig = signature(clip)\n",
        "sig"
      ],
      "metadata": {
        "colab": {
          "base_uri": "https://localhost:8080/"
        },
        "id": "NTs6p0lVJJSg",
        "outputId": "ada98257-5084-4136-918d-e1de072ef93e"
      },
      "execution_count": 46,
      "outputs": [
        {
          "output_type": "execute_result",
          "data": {
            "text/plain": [
              "<Signature (text, max_len=80)>"
            ]
          },
          "metadata": {},
          "execution_count": 46
        }
      ]
    },
    {
      "cell_type": "code",
      "source": [
        "str(sig)"
      ],
      "metadata": {
        "colab": {
          "base_uri": "https://localhost:8080/",
          "height": 35
        },
        "id": "7LA4jj41JL6b",
        "outputId": "4eff26b7-2fdb-48cc-c940-c1a2027a8b44"
      },
      "execution_count": 47,
      "outputs": [
        {
          "output_type": "execute_result",
          "data": {
            "text/plain": [
              "'(text, max_len=80)'"
            ],
            "application/vnd.google.colaboratory.intrinsic+json": {
              "type": "string"
            }
          },
          "metadata": {},
          "execution_count": 47
        }
      ]
    },
    {
      "cell_type": "code",
      "source": [
        "for name, param in sig.parameters.items():\n",
        "  print(param.kind, ':', name, '=', param.default)"
      ],
      "metadata": {
        "colab": {
          "base_uri": "https://localhost:8080/"
        },
        "id": "fojrqE37JNrN",
        "outputId": "afeb7deb-5cfc-4c3c-cf4b-368ae4fd468c"
      },
      "execution_count": 48,
      "outputs": [
        {
          "output_type": "stream",
          "name": "stdout",
          "text": [
            "POSITIONAL_OR_KEYWORD : text = <class 'inspect._empty'>\n",
            "POSITIONAL_OR_KEYWORD : max_len = 80\n"
          ]
        }
      ]
    },
    {
      "cell_type": "code",
      "source": [
        "# 예제 20\n",
        "from inspect import signature\n",
        "\n",
        "sig = signature(tag)"
      ],
      "metadata": {
        "id": "5_ohJZMPJRjj"
      },
      "execution_count": 49,
      "outputs": []
    },
    {
      "cell_type": "code",
      "source": [
        "my_tag"
      ],
      "metadata": {
        "colab": {
          "base_uri": "https://localhost:8080/"
        },
        "id": "aBy_EmOoJZvg",
        "outputId": "abdb8838-c1e0-4258-80aa-1cb5bf88367a"
      },
      "execution_count": 50,
      "outputs": [
        {
          "output_type": "execute_result",
          "data": {
            "text/plain": [
              "{'name': 'img',\n",
              " 'title': 'Sunset Boulevard',\n",
              " 'src': 'sunset.jpg',\n",
              " 'cls': 'framed'}"
            ]
          },
          "metadata": {},
          "execution_count": 50
        }
      ]
    },
    {
      "cell_type": "code",
      "source": [
        "bound_args = sig.bind(**my_tag)\n",
        "bound_args"
      ],
      "metadata": {
        "colab": {
          "base_uri": "https://localhost:8080/"
        },
        "id": "MNCy3-1ZJhX3",
        "outputId": "fc443af0-7c37-4625-998d-55b8438e3a5e"
      },
      "execution_count": 51,
      "outputs": [
        {
          "output_type": "execute_result",
          "data": {
            "text/plain": [
              "<BoundArguments (name='img', cls='framed', attrs={'title': 'Sunset Boulevard', 'src': 'sunset.jpg'})>"
            ]
          },
          "metadata": {},
          "execution_count": 51
        }
      ]
    },
    {
      "cell_type": "code",
      "source": [
        "for name, value in bound_args.arguments.items():\n",
        "  print(name, '=', value)"
      ],
      "metadata": {
        "colab": {
          "base_uri": "https://localhost:8080/"
        },
        "id": "OPIZ9CQHJh5Z",
        "outputId": "df015edc-e050-4b11-a785-d9d42a1b0f15"
      },
      "execution_count": 52,
      "outputs": [
        {
          "output_type": "stream",
          "name": "stdout",
          "text": [
            "name = img\n",
            "cls = framed\n",
            "attrs = {'title': 'Sunset Boulevard', 'src': 'sunset.jpg'}\n"
          ]
        }
      ]
    },
    {
      "cell_type": "code",
      "source": [
        "# 예제 20\n",
        "del my_tag['name']"
      ],
      "metadata": {
        "id": "Q56ZaoTUJnx0"
      },
      "execution_count": 53,
      "outputs": []
    },
    {
      "cell_type": "code",
      "source": [
        "bound_args = sig.bind(**my_tag)\n",
        "bound_args"
      ],
      "metadata": {
        "colab": {
          "base_uri": "https://localhost:8080/",
          "height": 312
        },
        "id": "RKmP75TMJtiU",
        "outputId": "1b1d726d-632f-4dd0-9d53-45f527980e9e"
      },
      "execution_count": 54,
      "outputs": [
        {
          "output_type": "error",
          "ename": "TypeError",
          "evalue": "missing a required argument: 'name'",
          "traceback": [
            "\u001b[0;31m---------------------------------------------------------------------------\u001b[0m",
            "\u001b[0;31mTypeError\u001b[0m                                 Traceback (most recent call last)",
            "\u001b[0;32m<ipython-input-54-9bc54b406b4f>\u001b[0m in \u001b[0;36m<cell line: 1>\u001b[0;34m()\u001b[0m\n\u001b[0;32m----> 1\u001b[0;31m \u001b[0mbound_args\u001b[0m \u001b[0;34m=\u001b[0m \u001b[0msig\u001b[0m\u001b[0;34m.\u001b[0m\u001b[0mbind\u001b[0m\u001b[0;34m(\u001b[0m\u001b[0;34m**\u001b[0m\u001b[0mmy_tag\u001b[0m\u001b[0;34m)\u001b[0m\u001b[0;34m\u001b[0m\u001b[0;34m\u001b[0m\u001b[0m\n\u001b[0m\u001b[1;32m      2\u001b[0m \u001b[0mbound_args\u001b[0m\u001b[0;34m\u001b[0m\u001b[0;34m\u001b[0m\u001b[0m\n",
            "\u001b[0;32m/usr/lib/python3.10/inspect.py\u001b[0m in \u001b[0;36mbind\u001b[0;34m(self, *args, **kwargs)\u001b[0m\n\u001b[1;32m   3184\u001b[0m         \u001b[0;32mif\u001b[0m \u001b[0mthe\u001b[0m \u001b[0mpassed\u001b[0m \u001b[0marguments\u001b[0m \u001b[0mcan\u001b[0m \u001b[0;32mnot\u001b[0m \u001b[0mbe\u001b[0m \u001b[0mbound\u001b[0m\u001b[0;34m.\u001b[0m\u001b[0;34m\u001b[0m\u001b[0;34m\u001b[0m\u001b[0m\n\u001b[1;32m   3185\u001b[0m         \"\"\"\n\u001b[0;32m-> 3186\u001b[0;31m         \u001b[0;32mreturn\u001b[0m \u001b[0mself\u001b[0m\u001b[0;34m.\u001b[0m\u001b[0m_bind\u001b[0m\u001b[0;34m(\u001b[0m\u001b[0margs\u001b[0m\u001b[0;34m,\u001b[0m \u001b[0mkwargs\u001b[0m\u001b[0;34m)\u001b[0m\u001b[0;34m\u001b[0m\u001b[0;34m\u001b[0m\u001b[0m\n\u001b[0m\u001b[1;32m   3187\u001b[0m \u001b[0;34m\u001b[0m\u001b[0m\n\u001b[1;32m   3188\u001b[0m     \u001b[0;32mdef\u001b[0m \u001b[0mbind_partial\u001b[0m\u001b[0;34m(\u001b[0m\u001b[0mself\u001b[0m\u001b[0;34m,\u001b[0m \u001b[0;34m/\u001b[0m\u001b[0;34m,\u001b[0m \u001b[0;34m*\u001b[0m\u001b[0margs\u001b[0m\u001b[0;34m,\u001b[0m \u001b[0;34m**\u001b[0m\u001b[0mkwargs\u001b[0m\u001b[0;34m)\u001b[0m\u001b[0;34m:\u001b[0m\u001b[0;34m\u001b[0m\u001b[0;34m\u001b[0m\u001b[0m\n",
            "\u001b[0;32m/usr/lib/python3.10/inspect.py\u001b[0m in \u001b[0;36m_bind\u001b[0;34m(self, args, kwargs, partial)\u001b[0m\n\u001b[1;32m   3099\u001b[0m                             \u001b[0mmsg\u001b[0m \u001b[0;34m=\u001b[0m \u001b[0;34m'missing a required argument: {arg!r}'\u001b[0m\u001b[0;34m\u001b[0m\u001b[0;34m\u001b[0m\u001b[0m\n\u001b[1;32m   3100\u001b[0m                             \u001b[0mmsg\u001b[0m \u001b[0;34m=\u001b[0m \u001b[0mmsg\u001b[0m\u001b[0;34m.\u001b[0m\u001b[0mformat\u001b[0m\u001b[0;34m(\u001b[0m\u001b[0marg\u001b[0m\u001b[0;34m=\u001b[0m\u001b[0mparam\u001b[0m\u001b[0;34m.\u001b[0m\u001b[0mname\u001b[0m\u001b[0;34m)\u001b[0m\u001b[0;34m\u001b[0m\u001b[0;34m\u001b[0m\u001b[0m\n\u001b[0;32m-> 3101\u001b[0;31m                             \u001b[0;32mraise\u001b[0m \u001b[0mTypeError\u001b[0m\u001b[0;34m(\u001b[0m\u001b[0mmsg\u001b[0m\u001b[0;34m)\u001b[0m \u001b[0;32mfrom\u001b[0m \u001b[0;32mNone\u001b[0m\u001b[0;34m\u001b[0m\u001b[0;34m\u001b[0m\u001b[0m\n\u001b[0m\u001b[1;32m   3102\u001b[0m             \u001b[0;32melse\u001b[0m\u001b[0;34m:\u001b[0m\u001b[0;34m\u001b[0m\u001b[0;34m\u001b[0m\u001b[0m\n\u001b[1;32m   3103\u001b[0m                 \u001b[0;31m# We have a positional argument to process\u001b[0m\u001b[0;34m\u001b[0m\u001b[0;34m\u001b[0m\u001b[0m\n",
            "\u001b[0;31mTypeError\u001b[0m: missing a required argument: 'name'"
          ]
        }
      ]
    },
    {
      "cell_type": "code",
      "source": [
        "# 예제 21\n",
        "def clip_fa(text:str, max_len:'int > 0'=80) -> str:\n",
        "  \"\"\"max_len 앞이나 뒤의 마지막 공백에서 잘라낸 텍스트를 반환한다.\"\"\"\n",
        "\n",
        "  end = None\n",
        "  if len(text) > max_len:\n",
        "    space_before = text.rfind(' ', 0, max_len)\n",
        "    if space_before >= 0:\n",
        "      end = space_before\n",
        "    else:\n",
        "      space_after = text.rfind(' ', max_len)\n",
        "      if space_after >= 0:\n",
        "        end = space_after\n",
        "\n",
        "  if end is None:\n",
        "    end = len(text)\n",
        "  return text[:end].rstrip()"
      ],
      "metadata": {
        "id": "h3fMsD6uJxoA"
      },
      "execution_count": 55,
      "outputs": []
    },
    {
      "cell_type": "code",
      "source": [
        "# 예제 22\n",
        "clip_fa.__annotations__"
      ],
      "metadata": {
        "colab": {
          "base_uri": "https://localhost:8080/"
        },
        "id": "SccPKZauKI5B",
        "outputId": "22dba34b-63a3-4a32-e89b-b8e0b87100d2"
      },
      "execution_count": 56,
      "outputs": [
        {
          "output_type": "execute_result",
          "data": {
            "text/plain": [
              "{'text': str, 'max_len': 'int > 0', 'return': str}"
            ]
          },
          "metadata": {},
          "execution_count": 56
        }
      ]
    },
    {
      "cell_type": "code",
      "source": [
        "# 예제 23\n",
        "clip_fa.__annotations__"
      ],
      "metadata": {
        "colab": {
          "base_uri": "https://localhost:8080/"
        },
        "id": "df89TnmZKN7Z",
        "outputId": "eb53ba79-6c25-472a-caaf-53dc9f1f3662"
      },
      "execution_count": 57,
      "outputs": [
        {
          "output_type": "execute_result",
          "data": {
            "text/plain": [
              "{'text': str, 'max_len': 'int > 0', 'return': str}"
            ]
          },
          "metadata": {},
          "execution_count": 57
        }
      ]
    },
    {
      "cell_type": "code",
      "source": [
        "sig2 = signature(clip_fa)\n",
        "sig2.return_annotation"
      ],
      "metadata": {
        "colab": {
          "base_uri": "https://localhost:8080/"
        },
        "id": "rR64jQYdKUZ5",
        "outputId": "c326bc06-abaf-42dd-cc7f-a52a7fc01aa6"
      },
      "execution_count": 58,
      "outputs": [
        {
          "output_type": "execute_result",
          "data": {
            "text/plain": [
              "str"
            ]
          },
          "metadata": {},
          "execution_count": 58
        }
      ]
    },
    {
      "cell_type": "code",
      "source": [
        "for param in sig2.parameters.values():\n",
        "  note = repr(param.annotation).ljust(13)\n",
        "  print(note, ':', param.name, '=', param.default)"
      ],
      "metadata": {
        "colab": {
          "base_uri": "https://localhost:8080/"
        },
        "id": "XS6z7CIXKXyi",
        "outputId": "ab9c0b50-f9f2-4429-b4c1-45016e887d8f"
      },
      "execution_count": 59,
      "outputs": [
        {
          "output_type": "stream",
          "name": "stdout",
          "text": [
            "<class 'str'> : text = <class 'inspect._empty'>\n",
            "'int > 0'     : max_len = 80\n"
          ]
        }
      ]
    },
    {
      "cell_type": "code",
      "source": [
        "# 예제 24\n",
        "from functools import reduce"
      ],
      "metadata": {
        "id": "AhG3Cx4xKj20"
      },
      "execution_count": 60,
      "outputs": []
    },
    {
      "cell_type": "code",
      "source": [
        "def fact(n):\n",
        "  return reduce(lambda a, b: a*b, range(1, n+1))"
      ],
      "metadata": {
        "id": "OUbmSUJ7KsgT"
      },
      "execution_count": 61,
      "outputs": []
    },
    {
      "cell_type": "code",
      "source": [
        "fact(10)"
      ],
      "metadata": {
        "colab": {
          "base_uri": "https://localhost:8080/"
        },
        "id": "y9qFOfIbKwhO",
        "outputId": "7a01b099-a6cd-4dda-f5fb-8da4269ff454"
      },
      "execution_count": 62,
      "outputs": [
        {
          "output_type": "execute_result",
          "data": {
            "text/plain": [
              "3628800"
            ]
          },
          "metadata": {},
          "execution_count": 62
        }
      ]
    },
    {
      "cell_type": "code",
      "source": [
        "# 예제 25\n",
        "from operator import mul\n",
        "\n",
        "def fact(n):\n",
        "  return reduce(mul, range(1,n+1))"
      ],
      "metadata": {
        "id": "I5PkBBkMKyIg"
      },
      "execution_count": 63,
      "outputs": []
    },
    {
      "cell_type": "code",
      "source": [
        "fact(10)"
      ],
      "metadata": {
        "colab": {
          "base_uri": "https://localhost:8080/"
        },
        "id": "E1kLzZN2K5pp",
        "outputId": "3fd872b6-0797-49cd-c14b-e3cb90a7bebe"
      },
      "execution_count": 65,
      "outputs": [
        {
          "output_type": "execute_result",
          "data": {
            "text/plain": [
              "3628800"
            ]
          },
          "metadata": {},
          "execution_count": 65
        }
      ]
    },
    {
      "cell_type": "code",
      "source": [
        "# 예제 26\n",
        "metro_data = [\n",
        "  ('Tokyo', 'JP', 36.933, (35.689722, 139.691667)),\n",
        "  ('Delhi NCR', 'IN', 21.935, (28.613889, 77.208889)),\n",
        "  ('Mexico City', 'MX', 20.142, (19.433333, -99.133333)),\n",
        "  ('New York-Newark', 'US', 20.104, (40.808611, -74.020386)),\n",
        "  ('Sao Paulo', 'BR', 19.649, (-23.547778, -46.635833)),\n",
        "]"
      ],
      "metadata": {
        "id": "rqUqiV1nLSS0"
      },
      "execution_count": 66,
      "outputs": []
    },
    {
      "cell_type": "code",
      "source": [
        "from operator import itemgetter\n",
        "for city in sorted(metro_data, key=itemgetter(1)):\n",
        "  print(city)"
      ],
      "metadata": {
        "colab": {
          "base_uri": "https://localhost:8080/"
        },
        "id": "8DVyOjXbLYwK",
        "outputId": "0e12535f-15ee-4efd-9275-e3792256973b"
      },
      "execution_count": 68,
      "outputs": [
        {
          "output_type": "stream",
          "name": "stdout",
          "text": [
            "('Sao Paulo', 'BR', 19.649, (-23.547778, -46.635833))\n",
            "('Delhi NCR', 'IN', 21.935, (28.613889, 77.208889))\n",
            "('Tokyo', 'JP', 36.933, (35.689722, 139.691667))\n",
            "('Mexico City', 'MX', 20.142, (19.433333, -99.133333))\n",
            "('New York-Newark', 'US', 20.104, (40.808611, -74.020386))\n"
          ]
        }
      ]
    },
    {
      "cell_type": "code",
      "source": [
        "# 예제 27\n",
        "cc_name = itemgetter(1, 0)\n",
        "for city in metro_data:\n",
        "  print(cc_name(city))"
      ],
      "metadata": {
        "colab": {
          "base_uri": "https://localhost:8080/"
        },
        "id": "MNW9p8I1Lbw5",
        "outputId": "ff3a19f7-9f0d-47f7-d2e3-c06d79c70fcb"
      },
      "execution_count": 69,
      "outputs": [
        {
          "output_type": "stream",
          "name": "stdout",
          "text": [
            "('JP', 'Tokyo')\n",
            "('IN', 'Delhi NCR')\n",
            "('MX', 'Mexico City')\n",
            "('US', 'New York-Newark')\n",
            "('BR', 'Sao Paulo')\n"
          ]
        }
      ]
    },
    {
      "cell_type": "code",
      "source": [
        "# 예제 28_1\n",
        "from collections import namedtuple\n",
        "LatLong = namedtuple('LatLong', 'lat long')\n",
        "Metropolis = namedtuple('Metropolis', 'name cc pop coord')\n",
        "metro_areas = [Metropolis(name, cc, pop, LatLong(lat, long))\n",
        "  for name, cc, pop, (lat, long) in metro_data]"
      ],
      "metadata": {
        "id": "LOxS81C6LxIz"
      },
      "execution_count": 70,
      "outputs": []
    },
    {
      "cell_type": "code",
      "source": [
        "metro_areas[0]"
      ],
      "metadata": {
        "colab": {
          "base_uri": "https://localhost:8080/"
        },
        "id": "2TCX55I9Lxip",
        "outputId": "efb96f3c-0225-40a1-80cd-5abb9736e6fe"
      },
      "execution_count": 71,
      "outputs": [
        {
          "output_type": "execute_result",
          "data": {
            "text/plain": [
              "Metropolis(name='Tokyo', cc='JP', pop=36.933, coord=LatLong(lat=35.689722, long=139.691667))"
            ]
          },
          "metadata": {},
          "execution_count": 71
        }
      ]
    },
    {
      "cell_type": "code",
      "source": [
        "metro_areas[0].coord.lat"
      ],
      "metadata": {
        "colab": {
          "base_uri": "https://localhost:8080/"
        },
        "id": "MGC9T6rkL0uH",
        "outputId": "0c61662b-c5be-46b0-8907-6b72312ca43c"
      },
      "execution_count": 72,
      "outputs": [
        {
          "output_type": "execute_result",
          "data": {
            "text/plain": [
              "35.689722"
            ]
          },
          "metadata": {},
          "execution_count": 72
        }
      ]
    },
    {
      "cell_type": "code",
      "source": [
        "from operator import attrgetter\n",
        "name_lat = attrgetter('name', 'coord.lat')"
      ],
      "metadata": {
        "id": "mY6le7U1L3Wg"
      },
      "execution_count": 73,
      "outputs": []
    },
    {
      "cell_type": "code",
      "source": [
        "name_lat(metro_areas[0])"
      ],
      "metadata": {
        "colab": {
          "base_uri": "https://localhost:8080/"
        },
        "id": "QdZypKNJL77W",
        "outputId": "7def02dd-1b13-49b6-ba3d-99f135d787f7"
      },
      "execution_count": 74,
      "outputs": [
        {
          "output_type": "execute_result",
          "data": {
            "text/plain": [
              "('Tokyo', 35.689722)"
            ]
          },
          "metadata": {},
          "execution_count": 74
        }
      ]
    },
    {
      "cell_type": "code",
      "source": [
        "# 예제 28_2\n",
        "for city in sorted(metro_areas, key=attrgetter('coord.lat')):\n",
        "  print(name_lat(city))"
      ],
      "metadata": {
        "colab": {
          "base_uri": "https://localhost:8080/"
        },
        "id": "eLztXGvYL95H",
        "outputId": "2cf6ec77-b9fe-4092-cb04-e94637c45972"
      },
      "execution_count": 75,
      "outputs": [
        {
          "output_type": "stream",
          "name": "stdout",
          "text": [
            "('Sao Paulo', -23.547778)\n",
            "('Mexico City', 19.433333)\n",
            "('Delhi NCR', 28.613889)\n",
            "('Tokyo', 35.689722)\n",
            "('New York-Newark', 40.808611)\n"
          ]
        }
      ]
    },
    {
      "cell_type": "code",
      "source": [
        "metro_areas2 = [Metropolis(name, cc, pop, LatLong(*loc)) for name, cc, pop, loc in metro_data]\n",
        "metro_areas2[0]"
      ],
      "metadata": {
        "colab": {
          "base_uri": "https://localhost:8080/"
        },
        "id": "cbj9PtjPMPpP",
        "outputId": "f1d76401-10a1-47ea-813c-3545e9d07473"
      },
      "execution_count": 78,
      "outputs": [
        {
          "output_type": "execute_result",
          "data": {
            "text/plain": [
              "Metropolis(name='Tokyo', cc='JP', pop=36.933, coord=LatLong(lat=35.689722, long=139.691667))"
            ]
          },
          "metadata": {},
          "execution_count": 78
        }
      ]
    },
    {
      "cell_type": "code",
      "source": [
        "# 예제 29\n",
        "from operator import methodcaller\n",
        "s = 'The time has come'\n",
        "upcase = methodcaller('upper')"
      ],
      "metadata": {
        "id": "_vrkVfkPMxA-"
      },
      "execution_count": 79,
      "outputs": []
    },
    {
      "cell_type": "code",
      "source": [
        "upcase(s)"
      ],
      "metadata": {
        "colab": {
          "base_uri": "https://localhost:8080/",
          "height": 35
        },
        "id": "9sCC_f7YMyTE",
        "outputId": "4481de6d-ea07-4794-95db-95a8b30a6fcc"
      },
      "execution_count": 80,
      "outputs": [
        {
          "output_type": "execute_result",
          "data": {
            "text/plain": [
              "'THE TIME HAS COME'"
            ],
            "application/vnd.google.colaboratory.intrinsic+json": {
              "type": "string"
            }
          },
          "metadata": {},
          "execution_count": 80
        }
      ]
    },
    {
      "cell_type": "code",
      "source": [
        "s.upper()"
      ],
      "metadata": {
        "colab": {
          "base_uri": "https://localhost:8080/",
          "height": 35
        },
        "id": "YoMDqXHNMzSw",
        "outputId": "85d33693-54b2-41e1-cc01-b7aed6eccd0b"
      },
      "execution_count": 81,
      "outputs": [
        {
          "output_type": "execute_result",
          "data": {
            "text/plain": [
              "'THE TIME HAS COME'"
            ],
            "application/vnd.google.colaboratory.intrinsic+json": {
              "type": "string"
            }
          },
          "metadata": {},
          "execution_count": 81
        }
      ]
    },
    {
      "cell_type": "code",
      "source": [
        "hiphenate = methodcaller('replace', ' ', '-')\n",
        "hiphenate(s)"
      ],
      "metadata": {
        "colab": {
          "base_uri": "https://localhost:8080/",
          "height": 35
        },
        "id": "eaxo2Y-lMzjO",
        "outputId": "253cad93-cef6-491c-f749-6bfde310beb7"
      },
      "execution_count": 83,
      "outputs": [
        {
          "output_type": "execute_result",
          "data": {
            "text/plain": [
              "'The-time-has-come'"
            ],
            "application/vnd.google.colaboratory.intrinsic+json": {
              "type": "string"
            }
          },
          "metadata": {},
          "execution_count": 83
        }
      ]
    },
    {
      "cell_type": "code",
      "source": [
        "# 예제 30\n",
        "from operator import mul\n",
        "from functools import partial\n",
        "triple = partial(mul, 3)\n",
        "triple(7)"
      ],
      "metadata": {
        "colab": {
          "base_uri": "https://localhost:8080/"
        },
        "id": "PLH76Mv8M33Z",
        "outputId": "510ab3cf-6193-457d-d7a0-64257ac2173a"
      },
      "execution_count": 85,
      "outputs": [
        {
          "output_type": "execute_result",
          "data": {
            "text/plain": [
              "21"
            ]
          },
          "metadata": {},
          "execution_count": 85
        }
      ]
    },
    {
      "cell_type": "code",
      "source": [
        "list(map(triple, range(1,10)))"
      ],
      "metadata": {
        "colab": {
          "base_uri": "https://localhost:8080/"
        },
        "id": "El2Nm5awNCzQ",
        "outputId": "bc8496b5-f0c8-431a-d1c2-3682d67e89df"
      },
      "execution_count": 86,
      "outputs": [
        {
          "output_type": "execute_result",
          "data": {
            "text/plain": [
              "[3, 6, 9, 12, 15, 18, 21, 24, 27]"
            ]
          },
          "metadata": {},
          "execution_count": 86
        }
      ]
    },
    {
      "cell_type": "code",
      "source": [
        "# 예제 31\n",
        "import unicodedata\n",
        "nfc = partial(unicodedata.normalize, 'NFC')"
      ],
      "metadata": {
        "id": "7QFSLLKoNJkP"
      },
      "execution_count": 87,
      "outputs": []
    },
    {
      "cell_type": "code",
      "source": [
        "s1 = 'café'\n",
        "s2 = 'cafe\\u0301'\n",
        "s1, s2"
      ],
      "metadata": {
        "colab": {
          "base_uri": "https://localhost:8080/"
        },
        "id": "51WIovtJNRA7",
        "outputId": "d82a5f51-9ea4-41c5-c388-02863f397aa0"
      },
      "execution_count": 88,
      "outputs": [
        {
          "output_type": "execute_result",
          "data": {
            "text/plain": [
              "('café', 'café')"
            ]
          },
          "metadata": {},
          "execution_count": 88
        }
      ]
    },
    {
      "cell_type": "code",
      "source": [
        "s1 == s2, nfc(s1) == nfc(s2)"
      ],
      "metadata": {
        "colab": {
          "base_uri": "https://localhost:8080/"
        },
        "id": "0q7AA7GPNSKS",
        "outputId": "dd5b3e48-0bdf-4eac-a9c9-fd05bf9c3d39"
      },
      "execution_count": 89,
      "outputs": [
        {
          "output_type": "execute_result",
          "data": {
            "text/plain": [
              "(False, True)"
            ]
          },
          "metadata": {},
          "execution_count": 89
        }
      ]
    },
    {
      "cell_type": "code",
      "source": [
        "# 예제 32\n",
        "tag\n",
        "picture = partial(tag, 'img', cls = 'pic-frame')"
      ],
      "metadata": {
        "id": "g8pGf3l3NU2a"
      },
      "execution_count": 90,
      "outputs": []
    },
    {
      "cell_type": "code",
      "source": [
        "picture(src='wumpus.jpeg')"
      ],
      "metadata": {
        "colab": {
          "base_uri": "https://localhost:8080/",
          "height": 35
        },
        "id": "ocdkEaySNcsl",
        "outputId": "6fee53d5-b80b-4808-ebae-e2a6f8970d0c"
      },
      "execution_count": 91,
      "outputs": [
        {
          "output_type": "execute_result",
          "data": {
            "text/plain": [
              "'<img class=\"pic-frame\" src=\"wumpus.jpeg\" />'"
            ],
            "application/vnd.google.colaboratory.intrinsic+json": {
              "type": "string"
            }
          },
          "metadata": {},
          "execution_count": 91
        }
      ]
    },
    {
      "cell_type": "code",
      "source": [
        "tag, picture, picture.func, picture.args, picture.keywords"
      ],
      "metadata": {
        "colab": {
          "base_uri": "https://localhost:8080/"
        },
        "id": "ouuWb1d7NmM2",
        "outputId": "9f432210-7d06-4cbe-80a5-d644e17d9359"
      },
      "execution_count": 92,
      "outputs": [
        {
          "output_type": "execute_result",
          "data": {
            "text/plain": [
              "(<function __main__.tag(name, *content, cls=None, **attrs)>,\n",
              " functools.partial(<function tag at 0x7a88dacc9c60>, 'img', cls='pic-frame'),\n",
              " <function __main__.tag(name, *content, cls=None, **attrs)>,\n",
              " ('img',),\n",
              " {'cls': 'pic-frame'})"
            ]
          },
          "metadata": {},
          "execution_count": 92
        }
      ]
    }
  ]
}